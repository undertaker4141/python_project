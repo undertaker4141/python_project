{
 "cells": [
  {
   "cell_type": "code",
   "execution_count": 4,
   "id": "28c1ea36-b6fc-4b5d-86a8-bae980359d08",
   "metadata": {},
   "outputs": [
    {
     "name": "stdout",
     "output_type": "stream",
     "text": [
      "Hello World\n"
     ]
    }
   ],
   "source": [
    "print(\"Hello World\")"
   ]
  },
  {
   "cell_type": "code",
   "execution_count": 5,
   "id": "676f4de9-8978-4a14-bff1-321cdbece0ef",
   "metadata": {},
   "outputs": [
    {
     "name": "stdout",
     "output_type": "stream",
     "text": [
      "hello, world\n"
     ]
    }
   ],
   "source": [
    "print(\"hello, world\")"
   ]
  },
  {
   "cell_type": "code",
   "execution_count": 6,
   "id": "adccebbc-bbb7-4bff-80b0-27c0c8248e03",
   "metadata": {},
   "outputs": [
    {
     "name": "stdin",
     "output_type": "stream",
     "text": [
      " 1111\n"
     ]
    },
    {
     "name": "stdout",
     "output_type": "stream",
     "text": [
      "hello, 1111\n"
     ]
    }
   ],
   "source": [
    "s=input()\n",
    "print(\"hello, \"+s)"
   ]
  },
  {
   "cell_type": "code",
   "execution_count": 12,
   "id": "5cbfe1a2-c7f7-4f4f-ba91-56f0708227cf",
   "metadata": {},
   "outputs": [
    {
     "name": "stdin",
     "output_type": "stream",
     "text": [
      " 2008\n"
     ]
    },
    {
     "name": "stdout",
     "output_type": "stream",
     "text": [
      "97\n"
     ]
    }
   ],
   "source": [
    "n=input()\n",
    "n=int(n)\n",
    "n-=1911\n",
    "print(n)"
   ]
  },
  {
   "cell_type": "code",
   "execution_count": 19,
   "id": "557622f5-cd00-426f-bb49-8986dc5c94f5",
   "metadata": {},
   "outputs": [
    {
     "name": "stdin",
     "output_type": "stream",
     "text": [
      " 1 3\n"
     ]
    }
   ],
   "source": [
    "# a, b=map(int, input().split())\n",
    "s = input()\n",
    "a, b = s.split()"
   ]
  },
  {
   "cell_type": "code",
   "execution_count": 22,
   "id": "1c76cc72-5f3d-43dc-92e5-30649f81b770",
   "metadata": {},
   "outputs": [
    {
     "data": {
      "text/plain": [
       "1"
      ]
     },
     "execution_count": 22,
     "metadata": {},
     "output_type": "execute_result"
    }
   ],
   "source": [
    "int(a)"
   ]
  },
  {
   "cell_type": "code",
   "execution_count": 23,
   "id": "00e5f7c8-607f-4332-9558-afeb0a3792ad",
   "metadata": {},
   "outputs": [
    {
     "data": {
      "text/plain": [
       "3"
      ]
     },
     "execution_count": 23,
     "metadata": {},
     "output_type": "execute_result"
    }
   ],
   "source": [
    "int(b)"
   ]
  },
  {
   "cell_type": "code",
   "execution_count": 30,
   "id": "4f8dc7d4-2b26-4996-91fd-55d90b6d13cd",
   "metadata": {},
   "outputs": [
    {
     "data": {
      "text/plain": [
       "<map at 0x7f8dcc133610>"
      ]
     },
     "execution_count": 30,
     "metadata": {},
     "output_type": "execute_result"
    }
   ],
   "source": [
    "map(print, [\"Hi\", \"Junqi\"])"
   ]
  },
  {
   "cell_type": "code",
   "execution_count": 36,
   "id": "37dc8768-739f-4e2f-8326-2f06d49a2675",
   "metadata": {},
   "outputs": [
    {
     "name": "stdout",
     "output_type": "stream",
     "text": [
      "Hi\n",
      "Junqi\n"
     ]
    }
   ],
   "source": [
    "# 使用 map 和 list 将每个元素都传递给 print 函数并打印出来\n",
    "result = list(map(print, [\"Hi\", \"Junqi\"]))"
   ]
  },
  {
   "cell_type": "code",
   "execution_count": 37,
   "id": "08d32699-b686-4f09-9664-8da6ee0d0972",
   "metadata": {},
   "outputs": [
    {
     "name": "stdin",
     "output_type": "stream",
     "text": [
      " 4 5\n"
     ]
    },
    {
     "name": "stdout",
     "output_type": "stream",
     "text": [
      "9\n"
     ]
    }
   ],
   "source": [
    "a,b=map(int,input().split())\n",
    "print(a+b)"
   ]
  },
  {
   "cell_type": "code",
   "execution_count": 38,
   "id": "43b74e76-779a-44fb-ae5c-6603b53e0cd2",
   "metadata": {},
   "outputs": [
    {
     "data": {
      "text/plain": [
       "4"
      ]
     },
     "execution_count": 38,
     "metadata": {},
     "output_type": "execute_result"
    }
   ],
   "source": [
    "2+2"
   ]
  },
  {
   "cell_type": "code",
   "execution_count": 39,
   "id": "208ea41e-0456-4cf3-a423-c310a9852a82",
   "metadata": {},
   "outputs": [
    {
     "data": {
      "text/plain": [
       "0"
      ]
     },
     "execution_count": 39,
     "metadata": {},
     "output_type": "execute_result"
    }
   ],
   "source": [
    "2-2"
   ]
  },
  {
   "cell_type": "code",
   "execution_count": 40,
   "id": "07a5a143-f66e-4b79-9da9-840709068971",
   "metadata": {},
   "outputs": [
    {
     "data": {
      "text/plain": [
       "4"
      ]
     },
     "execution_count": 40,
     "metadata": {},
     "output_type": "execute_result"
    }
   ],
   "source": [
    "2*2"
   ]
  },
  {
   "cell_type": "code",
   "execution_count": 41,
   "id": "20e62781-871c-445d-b2b6-138ad42ebb22",
   "metadata": {},
   "outputs": [
    {
     "data": {
      "text/plain": [
       "1.0"
      ]
     },
     "execution_count": 41,
     "metadata": {},
     "output_type": "execute_result"
    }
   ],
   "source": [
    "2/2"
   ]
  },
  {
   "cell_type": "code",
   "execution_count": 42,
   "id": "c644d7af-49f7-4c8b-88b9-512cff6d1225",
   "metadata": {},
   "outputs": [
    {
     "data": {
      "text/plain": [
       "4"
      ]
     },
     "execution_count": 42,
     "metadata": {},
     "output_type": "execute_result"
    }
   ],
   "source": [
    "2**2"
   ]
  },
  {
   "cell_type": "code",
   "execution_count": 43,
   "id": "96c22864-8aaf-4a29-acb1-4d64e50b7c13",
   "metadata": {},
   "outputs": [
    {
     "data": {
      "text/plain": [
       "1.4142135623730951"
      ]
     },
     "execution_count": 43,
     "metadata": {},
     "output_type": "execute_result"
    }
   ],
   "source": [
    "2**0.5"
   ]
  },
  {
   "cell_type": "code",
   "execution_count": 49,
   "id": "288fd4c7-cf8b-4cb1-8ee5-d14cca6fb343",
   "metadata": {},
   "outputs": [
    {
     "name": "stdin",
     "output_type": "stream",
     "text": [
      " 3 4 5\n"
     ]
    },
    {
     "name": "stdout",
     "output_type": "stream",
     "text": [
      "36\n"
     ]
    }
   ],
   "source": [
    "a,b,c=map(int,input().split())\n",
    "s=(a+b+c)/2\n",
    "print(int((s*(s-a)*(s-b)*(s-c))))"
   ]
  },
  {
   "cell_type": "code",
   "execution_count": null,
   "id": "59e199cc-e454-45ca-b9f7-c0aa54c5dfc0",
   "metadata": {},
   "outputs": [],
   "source": []
  }
 ],
 "metadata": {
  "kernelspec": {
   "display_name": "Python 3 (ipykernel)",
   "language": "python",
   "name": "python3"
  },
  "language_info": {
   "codemirror_mode": {
    "name": "ipython",
    "version": 3
   },
   "file_extension": ".py",
   "mimetype": "text/x-python",
   "name": "python",
   "nbconvert_exporter": "python",
   "pygments_lexer": "ipython3",
   "version": "3.11.7"
  }
 },
 "nbformat": 4,
 "nbformat_minor": 5
}
